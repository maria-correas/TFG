{
  "cells": [
    {
      "cell_type": "markdown",
      "source": [
        "# Análisis del conjunto de datos Cursos de Formación Profesional para el Empleo"
      ],
      "metadata": {
        "id": "zQ8JwYgl4Czn"
      },
      "id": "zQ8JwYgl4Czn"
    },
    {
      "cell_type": "markdown",
      "source": [
        "### Carga de módulos necesarios"
      ],
      "metadata": {
        "id": "mL_Yr7yp4StJ"
      },
      "id": "mL_Yr7yp4StJ"
    },
    {
      "cell_type": "code",
      "execution_count": null,
      "id": "9bd24854",
      "metadata": {
        "id": "9bd24854"
      },
      "outputs": [],
      "source": [
        "# Librería para el manejo de dataframes\n",
        "import pandas as pd"
      ]
    },
    {
      "cell_type": "markdown",
      "source": [
        "### Lectura del dataset"
      ],
      "metadata": {
        "id": "knrRJLUJ4eX6"
      },
      "id": "knrRJLUJ4eX6"
    },
    {
      "cell_type": "code",
      "execution_count": null,
      "id": "33e8b575",
      "metadata": {
        "id": "33e8b575"
      },
      "outputs": [],
      "source": [
        "df_original = pd.read_csv('cursos_formacion_profesional_empleo.csv', sep = ';')"
      ]
    },
    {
      "cell_type": "code",
      "execution_count": null,
      "id": "4c2b6e9a",
      "metadata": {
        "id": "4c2b6e9a"
      },
      "outputs": [],
      "source": [
        "df = df_original.copy()"
      ]
    },
    {
      "cell_type": "markdown",
      "source": [
        "Muestra del conjunto de datos"
      ],
      "metadata": {
        "id": "LzjD1Uyo4h2b"
      },
      "id": "LzjD1Uyo4h2b"
    },
    {
      "cell_type": "code",
      "execution_count": null,
      "id": "38bd337f",
      "metadata": {
        "id": "38bd337f",
        "outputId": "5ee6aae5-319a-4fc3-f29d-b210bc741360"
      },
      "outputs": [
        {
          "name": "stdout",
          "output_type": "stream",
          "text": [
            "(7997, 20)\n"
          ]
        },
        {
          "data": {
            "text/html": [
              "<div>\n",
              "<style scoped>\n",
              "    .dataframe tbody tr th:only-of-type {\n",
              "        vertical-align: middle;\n",
              "    }\n",
              "\n",
              "    .dataframe tbody tr th {\n",
              "        vertical-align: top;\n",
              "    }\n",
              "\n",
              "    .dataframe thead th {\n",
              "        text-align: right;\n",
              "    }\n",
              "</style>\n",
              "<table border=\"1\" class=\"dataframe\">\n",
              "  <thead>\n",
              "    <tr style=\"text-align: right;\">\n",
              "      <th></th>\n",
              "      <th>curso_codigo</th>\n",
              "      <th>sie_codigo</th>\n",
              "      <th>especialidad_desc</th>\n",
              "      <th>sector_desc</th>\n",
              "      <th>familia_desc</th>\n",
              "      <th>area_desc</th>\n",
              "      <th>especialidad_desc_1</th>\n",
              "      <th>curso_desc</th>\n",
              "      <th>duracion_formacion</th>\n",
              "      <th>duracion_practicas</th>\n",
              "      <th>especialidad_de_certificado</th>\n",
              "      <th>modalidad</th>\n",
              "      <th>dirigido_a</th>\n",
              "      <th>censo</th>\n",
              "      <th>centro_desc</th>\n",
              "      <th>centro_direccion</th>\n",
              "      <th>centro_cp</th>\n",
              "      <th>centro_telefono</th>\n",
              "      <th>centro_email</th>\n",
              "      <th>centro_municipio</th>\n",
              "    </tr>\n",
              "  </thead>\n",
              "  <tbody>\n",
              "    <tr>\n",
              "      <th>0</th>\n",
              "      <td>18/8000</td>\n",
              "      <td>CCLL2018/8000</td>\n",
              "      <td>IFCD27</td>\n",
              "      <td>Servicios</td>\n",
              "      <td>Inform�tica  y comunicaciones</td>\n",
              "      <td>Desarrollo</td>\n",
              "      <td>DESARROLLO DE APPS PARA IOS CON OBJETIVE C Y S...</td>\n",
              "      <td>DESARROLLO DE APPS PARA IOS CON OBJETIVE C Y S...</td>\n",
              "      <td>200</td>\n",
              "      <td>0.0</td>\n",
              "      <td>NO</td>\n",
              "      <td>Presencial</td>\n",
              "      <td>Desempleados</td>\n",
              "      <td>1564</td>\n",
              "      <td>CENTRO DE FORMACION MUNICIPAL MOSTOLES   DESAR...</td>\n",
              "      <td>Calle Salzillo, 04-BIS</td>\n",
              "      <td>28932.0</td>\n",
              "      <td>916853090.0</td>\n",
              "      <td>btomas@mostolesdesarrollo.es</td>\n",
              "      <td>MOSTOLES</td>\n",
              "    </tr>\n",
              "    <tr>\n",
              "      <th>1</th>\n",
              "      <td>18/8001</td>\n",
              "      <td>CCLL2018/8001</td>\n",
              "      <td>IFCD28</td>\n",
              "      <td>Servicios</td>\n",
              "      <td>Inform�tica  y comunicaciones</td>\n",
              "      <td>Desarrollo</td>\n",
              "      <td>DESARROLLO DE VIDEOJUEGOS Y REALIDAD VIRTUAL C...</td>\n",
              "      <td>DESARROLLO DE VIDEOJUEGOS Y REALIDAD VIRTUAL C...</td>\n",
              "      <td>300</td>\n",
              "      <td>0.0</td>\n",
              "      <td>NO</td>\n",
              "      <td>Presencial</td>\n",
              "      <td>Desempleados</td>\n",
              "      <td>1564</td>\n",
              "      <td>CENTRO DE FORMACION MUNICIPAL MOSTOLES   DESAR...</td>\n",
              "      <td>Calle Salzillo, 04-BIS</td>\n",
              "      <td>28932.0</td>\n",
              "      <td>916853090.0</td>\n",
              "      <td>btomas@mostolesdesarrollo.es</td>\n",
              "      <td>MOSTOLES</td>\n",
              "    </tr>\n",
              "    <tr>\n",
              "      <th>2</th>\n",
              "      <td>18/8002</td>\n",
              "      <td>CCLL2018/8002</td>\n",
              "      <td>IFCI17</td>\n",
              "      <td>Servicios</td>\n",
              "      <td>Inform�tica  y comunicaciones</td>\n",
              "      <td>Inform�tica</td>\n",
              "      <td>T�CNICO EN SOFTWARE OFIM�TICO</td>\n",
              "      <td>T�CNICO EN SOFTWARE OFIM�TICO</td>\n",
              "      <td>350</td>\n",
              "      <td>0.0</td>\n",
              "      <td>NO</td>\n",
              "      <td>Presencial</td>\n",
              "      <td>Desempleados</td>\n",
              "      <td>1564</td>\n",
              "      <td>CENTRO DE FORMACION MUNICIPAL MOSTOLES   DESAR...</td>\n",
              "      <td>Calle Salzillo, 04-BIS</td>\n",
              "      <td>28932.0</td>\n",
              "      <td>916853090.0</td>\n",
              "      <td>btomas@mostolesdesarrollo.es</td>\n",
              "      <td>MOSTOLES</td>\n",
              "    </tr>\n",
              "    <tr>\n",
              "      <th>3</th>\n",
              "      <td>18/8003</td>\n",
              "      <td>CCLL2018/8003</td>\n",
              "      <td>IFCT37</td>\n",
              "      <td>Servicios</td>\n",
              "      <td>Inform�tica  y comunicaciones</td>\n",
              "      <td>Sistemas y telem�tica</td>\n",
              "      <td>HERRAMIENTAS WEB 2.0</td>\n",
              "      <td>HERRAMIENTAS WEB 2.0</td>\n",
              "      <td>100</td>\n",
              "      <td>0.0</td>\n",
              "      <td>NO</td>\n",
              "      <td>Presencial</td>\n",
              "      <td>Desempleados</td>\n",
              "      <td>1564</td>\n",
              "      <td>CENTRO DE FORMACION MUNICIPAL MOSTOLES   DESAR...</td>\n",
              "      <td>Calle Salzillo, 04-BIS</td>\n",
              "      <td>28932.0</td>\n",
              "      <td>916853090.0</td>\n",
              "      <td>btomas@mostolesdesarrollo.es</td>\n",
              "      <td>MOSTOLES</td>\n",
              "    </tr>\n",
              "    <tr>\n",
              "      <th>4</th>\n",
              "      <td>18/8004</td>\n",
              "      <td>CCLL2018/8004</td>\n",
              "      <td>IFCT38</td>\n",
              "      <td>Servicios</td>\n",
              "      <td>Inform�tica  y comunicaciones</td>\n",
              "      <td>Sistemas y telem�tica</td>\n",
              "      <td>COMMUNITY MANAGER, HERRAMIENTAS, ANAL�TICA E I...</td>\n",
              "      <td>COMMUNITY MANAGER, HERRAMIENTAS, ANAL�TICA E I...</td>\n",
              "      <td>100</td>\n",
              "      <td>0.0</td>\n",
              "      <td>NO</td>\n",
              "      <td>Presencial</td>\n",
              "      <td>Desempleados</td>\n",
              "      <td>1564</td>\n",
              "      <td>CENTRO DE FORMACION MUNICIPAL MOSTOLES   DESAR...</td>\n",
              "      <td>Calle Salzillo, 04-BIS</td>\n",
              "      <td>28932.0</td>\n",
              "      <td>916853090.0</td>\n",
              "      <td>btomas@mostolesdesarrollo.es</td>\n",
              "      <td>MOSTOLES</td>\n",
              "    </tr>\n",
              "  </tbody>\n",
              "</table>\n",
              "</div>"
            ],
            "text/plain": [
              "  curso_codigo     sie_codigo especialidad_desc sector_desc  \\\n",
              "0      18/8000  CCLL2018/8000            IFCD27   Servicios   \n",
              "1      18/8001  CCLL2018/8001            IFCD28   Servicios   \n",
              "2      18/8002  CCLL2018/8002            IFCI17   Servicios   \n",
              "3      18/8003  CCLL2018/8003            IFCT37   Servicios   \n",
              "4      18/8004  CCLL2018/8004            IFCT38   Servicios   \n",
              "\n",
              "                    familia_desc              area_desc  \\\n",
              "0  Inform�tica  y comunicaciones             Desarrollo   \n",
              "1  Inform�tica  y comunicaciones             Desarrollo   \n",
              "2  Inform�tica  y comunicaciones            Inform�tica   \n",
              "3  Inform�tica  y comunicaciones  Sistemas y telem�tica   \n",
              "4  Inform�tica  y comunicaciones  Sistemas y telem�tica   \n",
              "\n",
              "                                 especialidad_desc_1  \\\n",
              "0  DESARROLLO DE APPS PARA IOS CON OBJETIVE C Y S...   \n",
              "1  DESARROLLO DE VIDEOJUEGOS Y REALIDAD VIRTUAL C...   \n",
              "2                      T�CNICO EN SOFTWARE OFIM�TICO   \n",
              "3                               HERRAMIENTAS WEB 2.0   \n",
              "4  COMMUNITY MANAGER, HERRAMIENTAS, ANAL�TICA E I...   \n",
              "\n",
              "                                          curso_desc  duracion_formacion  \\\n",
              "0  DESARROLLO DE APPS PARA IOS CON OBJETIVE C Y S...                 200   \n",
              "1  DESARROLLO DE VIDEOJUEGOS Y REALIDAD VIRTUAL C...                 300   \n",
              "2                      T�CNICO EN SOFTWARE OFIM�TICO                 350   \n",
              "3                               HERRAMIENTAS WEB 2.0                 100   \n",
              "4  COMMUNITY MANAGER, HERRAMIENTAS, ANAL�TICA E I...                 100   \n",
              "\n",
              "   duracion_practicas especialidad_de_certificado   modalidad    dirigido_a  \\\n",
              "0                 0.0                          NO  Presencial  Desempleados   \n",
              "1                 0.0                          NO  Presencial  Desempleados   \n",
              "2                 0.0                          NO  Presencial  Desempleados   \n",
              "3                 0.0                          NO  Presencial  Desempleados   \n",
              "4                 0.0                          NO  Presencial  Desempleados   \n",
              "\n",
              "  censo                                        centro_desc  \\\n",
              "0  1564  CENTRO DE FORMACION MUNICIPAL MOSTOLES   DESAR...   \n",
              "1  1564  CENTRO DE FORMACION MUNICIPAL MOSTOLES   DESAR...   \n",
              "2  1564  CENTRO DE FORMACION MUNICIPAL MOSTOLES   DESAR...   \n",
              "3  1564  CENTRO DE FORMACION MUNICIPAL MOSTOLES   DESAR...   \n",
              "4  1564  CENTRO DE FORMACION MUNICIPAL MOSTOLES   DESAR...   \n",
              "\n",
              "           centro_direccion  centro_cp  centro_telefono  \\\n",
              "0  Calle Salzillo, 04-BIS      28932.0      916853090.0   \n",
              "1  Calle Salzillo, 04-BIS      28932.0      916853090.0   \n",
              "2  Calle Salzillo, 04-BIS      28932.0      916853090.0   \n",
              "3  Calle Salzillo, 04-BIS      28932.0      916853090.0   \n",
              "4  Calle Salzillo, 04-BIS      28932.0      916853090.0   \n",
              "\n",
              "                   centro_email centro_municipio  \n",
              "0  btomas@mostolesdesarrollo.es         MOSTOLES  \n",
              "1  btomas@mostolesdesarrollo.es         MOSTOLES  \n",
              "2  btomas@mostolesdesarrollo.es         MOSTOLES  \n",
              "3  btomas@mostolesdesarrollo.es         MOSTOLES  \n",
              "4  btomas@mostolesdesarrollo.es         MOSTOLES  "
            ]
          },
          "execution_count": 5,
          "metadata": {},
          "output_type": "execute_result"
        }
      ],
      "source": [
        "print(df.shape)\n",
        "df.head()"
      ]
    },
    {
      "cell_type": "markdown",
      "source": [
        "### Análisis y limpieza"
      ],
      "metadata": {
        "id": "ZTuHF1GX4k75"
      },
      "id": "ZTuHF1GX4k75"
    },
    {
      "cell_type": "code",
      "execution_count": null,
      "id": "7edb967a",
      "metadata": {
        "id": "7edb967a",
        "outputId": "3be1fda7-d78a-4575-9626-3a5c36cc851f"
      },
      "outputs": [
        {
          "name": "stdout",
          "output_type": "stream",
          "text": [
            "(7997, 20)\n"
          ]
        }
      ],
      "source": [
        "#Se eliminan valores duplicados\n",
        "df.drop_duplicates(inplace = True)\n",
        "print(df.shape)"
      ]
    },
    {
      "cell_type": "code",
      "execution_count": null,
      "id": "ccf5d6cf",
      "metadata": {
        "id": "ccf5d6cf",
        "outputId": "1c1678ad-06b5-4d73-eef7-8fc903c937bb"
      },
      "outputs": [
        {
          "data": {
            "text/plain": [
              "curso_codigo                      0\n",
              "sie_codigo                     4058\n",
              "especialidad_desc                 0\n",
              "sector_desc                       0\n",
              "familia_desc                      0\n",
              "area_desc                         0\n",
              "especialidad_desc_1             705\n",
              "curso_desc                        0\n",
              "duracion_formacion                0\n",
              "duracion_practicas              256\n",
              "especialidad_de_certificado       0\n",
              "modalidad                         0\n",
              "dirigido_a                        0\n",
              "censo                             0\n",
              "centro_desc                       0\n",
              "centro_direccion                  0\n",
              "centro_cp                       413\n",
              "centro_telefono                 868\n",
              "centro_email                    589\n",
              "centro_municipio                  0\n",
              "dtype: int64"
            ]
          },
          "execution_count": 7,
          "metadata": {},
          "output_type": "execute_result"
        }
      ],
      "source": [
        "#Valores nulos totales\n",
        "df.isnull().sum()"
      ]
    },
    {
      "cell_type": "code",
      "execution_count": null,
      "id": "95718d07",
      "metadata": {
        "id": "95718d07",
        "outputId": "acace8b2-45ee-40a4-e92e-7b2fdad045e5"
      },
      "outputs": [
        {
          "data": {
            "text/plain": [
              "curso_codigo                    0.000000\n",
              "sie_codigo                     50.744029\n",
              "especialidad_desc               0.000000\n",
              "sector_desc                     0.000000\n",
              "familia_desc                    0.000000\n",
              "area_desc                       0.000000\n",
              "especialidad_desc_1             8.815806\n",
              "curso_desc                      0.000000\n",
              "duracion_formacion              0.000000\n",
              "duracion_practicas              3.201200\n",
              "especialidad_de_certificado     0.000000\n",
              "modalidad                       0.000000\n",
              "dirigido_a                      0.000000\n",
              "censo                           0.000000\n",
              "centro_desc                     0.000000\n",
              "centro_direccion                0.000000\n",
              "centro_cp                       5.164437\n",
              "centro_telefono                10.854070\n",
              "centro_email                    7.365262\n",
              "centro_municipio                0.000000\n",
              "dtype: float64"
            ]
          },
          "execution_count": 8,
          "metadata": {},
          "output_type": "execute_result"
        }
      ],
      "source": [
        "#Porcentaje de nulos\n",
        "df.isnull().sum()/len(df)*100"
      ]
    },
    {
      "cell_type": "code",
      "execution_count": null,
      "id": "c2a3a27d",
      "metadata": {
        "id": "c2a3a27d",
        "outputId": "4ee77153-052a-4ff0-ab01-e30d50363d28"
      },
      "outputs": [
        {
          "data": {
            "text/plain": [
              "Index(['curso_codigo', 'sie_codigo', 'especialidad_desc', 'sector_desc',\n",
              "       'familia_desc', 'area_desc', 'especialidad_desc_1', 'curso_desc',\n",
              "       'duracion_formacion', 'duracion_practicas',\n",
              "       'especialidad_de_certificado', 'modalidad', 'dirigido_a', 'censo',\n",
              "       'centro_desc', 'centro_direccion', 'centro_cp', 'centro_telefono',\n",
              "       'centro_email', 'centro_municipio'],\n",
              "      dtype='object')"
            ]
          },
          "execution_count": 9,
          "metadata": {},
          "output_type": "execute_result"
        }
      ],
      "source": [
        "# Columnas del dataframe\n",
        "df.columns"
      ]
    },
    {
      "cell_type": "code",
      "execution_count": null,
      "id": "fd58e59b",
      "metadata": {
        "id": "fd58e59b"
      },
      "outputs": [],
      "source": [
        "#Se eliminan las variables 'curso_codigo', 'sie_codigo', 'especialidad_desc', \n",
        "#      'duracion_formacion', 'duracion_practicas', 'centro_direccion', 'centro_cp', 'centro_telefono',\n",
        "#      'centro_email'\n",
        "\n",
        "\n",
        "df = df[[ 'curso_codigo','sector_desc',\n",
        "       'familia_desc', 'area_desc', 'especialidad_desc_1', 'curso_desc',\n",
        "       'especialidad_de_certificado', 'modalidad', 'dirigido_a', 'censo',\n",
        "       'centro_desc', 'centro_municipio']]"
      ]
    },
    {
      "cell_type": "code",
      "execution_count": null,
      "id": "ddf240f5",
      "metadata": {
        "id": "ddf240f5"
      },
      "outputs": [],
      "source": [
        "#Se eliminan las variables con especialidad_desc_1 nulos \n",
        "df = df.dropna(subset=['especialidad_desc_1'])"
      ]
    },
    {
      "cell_type": "markdown",
      "source": [
        "### Distribución de las variables"
      ],
      "metadata": {
        "id": "HbDO9-Ly5Pe0"
      },
      "id": "HbDO9-Ly5Pe0"
    },
    {
      "cell_type": "code",
      "execution_count": null,
      "id": "70da9263",
      "metadata": {
        "id": "70da9263",
        "outputId": "21102ede-83bf-45c7-d16a-e27b66e066e1"
      },
      "outputs": [
        {
          "data": {
            "text/plain": [
              "familia_desc\n",
              "ADMINISTRACI�N Y GESTI�N                      1103\n",
              "SERVICIOS SOCIOCULTURALES Y A LA COMUNIDAD     603\n",
              "Servicios socioculturales y a la comunidad     576\n",
              "Comercio y marketing                           553\n",
              "COMERCIO Y MARKETING                           522\n",
              "Administraci�n y gesti�n                       510\n",
              "Inform�tica  y comunicaciones                  451\n",
              "INFORM�TICA Y COMUNICACIONES                   367\n",
              "Hosteler�a y turismo                           278\n",
              "Imagen personal                                246\n",
              "HOSTELER�A Y TURISMO                           180\n",
              "Instalaci�n y mantenimiento                    133\n",
              "Electricidad y electr�nica                     131\n",
              "Seguridad y medioambiente                      129\n",
              "Inform�tica y comunicaciones                   119\n",
              "TRANSPORTE Y MANTENIMIENTO DE VEH�CULOS        117\n",
              "Transporte y mantenimiento de veh�culos        111\n",
              "Agraria                                        110\n",
              "Edificaci�n y obra civil                       102\n",
              "SANIDAD                                         90\n",
              "Actividades fisicas y deportivas                79\n",
              "Artes gr�ficas                                  74\n",
              "SEGURIDAD Y MEDIOAMBIENTE                       65\n",
              "EDIFICACI�N Y OBRA CIVIL                        58\n",
              "IMAGEN PERSONAL                                 54\n",
              "Sanidad                                         52\n",
              "AGRARIA                                         49\n",
              "FORMACI�N COMPLEMENTARIA                        48\n",
              "FABRICACI�N MEC�NICA                            47\n",
              "Energ�a y agua                                  47\n",
              "Imagen y sonido                                 42\n",
              "Fabricaci�n mec�nica                            40\n",
              "ACTIVIDADES F�SICAS Y DEPORTIVAS                38\n",
              "IMAGEN Y SONIDO                                 32\n",
              "Madera, mueble y corcho                         22\n",
              "ARTES GR�FICAS                                  21\n",
              "ELECTRICIDAD Y ELECTR�NICA                      17\n",
              "ENERG�A Y AGUA                                  15\n",
              "INDUSTRIAS ALIMENTARIAS                         12\n",
              "Industrias alimentarias                          9\n",
              "Qu�mica                                          9\n",
              "INFORM�TICA  Y COMUNICACIONES                    9\n",
              "INSTALACI�N Y MANTENIMIENTO                      8\n",
              "SERVICIOS SOCIOCULTURALES Y A LA COMUNID         6\n",
              "Artes y artesan�as                               4\n",
              "Textil, confecci�n y piel                        4\n",
              "dtype: int64"
            ]
          },
          "execution_count": 12,
          "metadata": {},
          "output_type": "execute_result"
        }
      ],
      "source": [
        "#Distribución de familias profesionales \n",
        "df.value_counts('familia_desc')"
      ]
    },
    {
      "cell_type": "code",
      "execution_count": null,
      "id": "ac64c23e",
      "metadata": {
        "id": "ac64c23e"
      },
      "outputs": [],
      "source": [
        "#Se renombran las variables \n",
        "def renombrar(variable):\n",
        "    if variable == 'ADMINISTRACI�N Y GESTI�N':\n",
        "        return 'Administración y gestión'\n",
        "    if variable == 'SERVICIOS SOCIOCULTURALES Y A LA COMUNIDAD':\n",
        "        return 'Servicios socioculturales y a la comunidad'\n",
        "\n",
        "    if variable == 'COMERCIO Y MARKETING':\n",
        "        return 'Comercio y marketing'\n",
        "    if variable == 'Administraci�n y gesti�n':\n",
        "        return 'Administración y gestión'\n",
        "    if variable == 'Inform�tica  y comunicaciones':\n",
        "        return 'Informática y comunicaciones'\n",
        "    if variable == 'INFORM�TICA Y COMUNICACIONES':\n",
        "        return 'Informática y comunicaciones'\n",
        "    if variable == 'Hosteler�a y turismo':\n",
        "        return 'Hostelería y turismo'\n",
        "    if variable == 'HOSTELER�A Y TURISMO':\n",
        "        return 'Hostelería y turismo'\n",
        "    if variable == 'Instalaci�n y mantenimiento':\n",
        "        return 'Instalación y mantenimiento'\n",
        "    if variable == 'Electricidad y electr�nica':\n",
        "        return 'Electricidad y electrónica'\n",
        "    if variable == 'TRANSPORTE Y MANTENIMIENTO DE VEH�CULOS':\n",
        "        return 'Transporte y mantenimiento de vehículos'\n",
        "    if variable == 'Transporte y mantenimiento de veh�culos':\n",
        "        return 'Transporte y mantenimiento de vehículos'\n",
        "    if variable == 'Edificaci�n y obra civil':\n",
        "        return 'Edificación y obra civil'\n",
        "    if variable == 'SANIDAD':\n",
        "        return 'Sanidad'\n",
        "    if variable == 'Artes gr�ficas':\n",
        "        return 'Artes gráficas' \n",
        "    if variable == 'SEGURIDAD Y MEDIOAMBIENTE':\n",
        "        return 'Seguridad y medioambiente' \n",
        "    if variable == 'EDIFICACI�N Y OBRA CIVIL':\n",
        "        return 'Edificación y obra civil' \n",
        "    if variable == 'IMAGEN PERSONAL':\n",
        "        return 'Imagen personal' \n",
        "    if variable == 'FORMACI�N COMPLEMENTARIA':\n",
        "        return 'Formación complementaria' \n",
        "    if variable == 'FABRICACI�N MEC�NICA':\n",
        "        return 'Fabricación mecánica' \n",
        "    if variable == 'Energ�a y agua':\n",
        "        return 'Energía y agua' \n",
        "    if variable == 'Fabricaci�n mec�nica':\n",
        "        return 'Fabricación mecánica' \n",
        "    if variable == 'ACTIVIDADES F�SICAS Y DEPORTIVAS':\n",
        "        return 'Actividades físicas y deportivas' \n",
        "    if variable == 'Actividades fisicas y deportivas':\n",
        "        return 'Actividades físicas y deportivas'\n",
        "    if variable == 'IMAGEN Y SONIDO':\n",
        "        return 'Imagen y sonido' \n",
        "    if variable == 'ARTES GR�FICAS':\n",
        "        return 'Artes gráficas' \n",
        "    if variable == 'ELECTRICIDAD Y ELECTR�NICA':\n",
        "        return 'Electricidad y electrónica' \n",
        "    if variable == 'ENERG�A Y AGUA':\n",
        "        return 'Energía y agua' \n",
        "    if variable == 'INDUSTRIAS ALIMENTARIAS':\n",
        "        return 'Industrias alimentarias' \n",
        "    if variable == 'Qu�mica':\n",
        "        return 'Química' \n",
        "    if variable == 'INFORM�TICA  Y COMUNICACIONES':\n",
        "        return 'Informática y comunicaciones' \n",
        "    if variable == 'INSTALACI�N Y MANTENIMIENTO':\n",
        "        return 'Instalación y mantenimiento' \n",
        "    if variable == 'SERVICIOS SOCIOCULTURALES Y A LA COMUNID':\n",
        "        return 'Servicios socioculturales y a la comunidad' \n",
        "    if variable == 'Artes y artesan�as':\n",
        "        return 'Artes y artesanías' \n",
        "    if variable == 'Textil, confecci�n y piel':\n",
        "        return 'Textil, confección y piel' \n",
        "    if variable == 'Inform�tica y comunicaciones':\n",
        "        return 'Informática y comunicaciones'\n",
        "    if variable == 'AGRARIA':\n",
        "        return 'Agraria'\n",
        "    else:\n",
        "        return variable"
      ]
    },
    {
      "cell_type": "code",
      "execution_count": null,
      "id": "bae6c2fb",
      "metadata": {
        "id": "bae6c2fb"
      },
      "outputs": [],
      "source": [
        "df['familia_desc'] =df['familia_desc'].apply(lambda x : renombrar(x)) "
      ]
    },
    {
      "cell_type": "code",
      "execution_count": null,
      "id": "5b9a2ed1",
      "metadata": {
        "id": "5b9a2ed1",
        "outputId": "1ab9bbec-0c66-4634-e20d-314b36197ad6"
      },
      "outputs": [
        {
          "data": {
            "text/plain": [
              "familia_desc\n",
              "Administración y gestión                      1613\n",
              "Servicios socioculturales y a la comunidad    1185\n",
              "Comercio y marketing                          1075\n",
              "Informática y comunicaciones                   946\n",
              "Hostelería y turismo                           458\n",
              "Imagen personal                                300\n",
              "Transporte y mantenimiento de vehículos        228\n",
              "Seguridad y medioambiente                      194\n",
              "Edificación y obra civil                       160\n",
              "Agraria                                        159\n",
              "Electricidad y electrónica                     148\n",
              "Sanidad                                        142\n",
              "Instalación y mantenimiento                    141\n",
              "Actividades físicas y deportivas               117\n",
              "Artes gráficas                                  95\n",
              "Fabricación mecánica                            87\n",
              "Imagen y sonido                                 74\n",
              "Energía y agua                                  62\n",
              "Formación complementaria                        48\n",
              "Madera, mueble y corcho                         22\n",
              "Industrias alimentarias                         21\n",
              "Química                                          9\n",
              "Artes y artesanías                               4\n",
              "Textil, confección y piel                        4\n",
              "dtype: int64"
            ]
          },
          "execution_count": 16,
          "metadata": {},
          "output_type": "execute_result"
        }
      ],
      "source": [
        "#Distribución de familias profesionales \n",
        "df.value_counts('familia_desc')"
      ]
    },
    {
      "cell_type": "code",
      "execution_count": null,
      "id": "55f2fd8e",
      "metadata": {
        "id": "55f2fd8e",
        "outputId": "b65939db-54f2-470a-e82f-41f42dd4cb85"
      },
      "outputs": [
        {
          "data": {
            "text/plain": [
              "dirigido_a\n",
              "Desempleados    3939\n",
              "Ocupados        3353\n",
              "dtype: int64"
            ]
          },
          "execution_count": 17,
          "metadata": {},
          "output_type": "execute_result"
        }
      ],
      "source": [
        "#Distribución de familias profesionales \n",
        "df.value_counts('dirigido_a')"
      ]
    },
    {
      "cell_type": "code",
      "execution_count": null,
      "id": "b55eb522",
      "metadata": {
        "id": "b55eb522",
        "outputId": "201f92a4-0a82-489f-e28d-2f94b61d7f69"
      },
      "outputs": [
        {
          "data": {
            "text/plain": [
              "especialidad_de_certificado\n",
              "S�    4393\n",
              "NO    2899\n",
              "dtype: int64"
            ]
          },
          "execution_count": 18,
          "metadata": {},
          "output_type": "execute_result"
        }
      ],
      "source": [
        "#Distribución de familias profesionales \n",
        "df.value_counts('especialidad_de_certificado')"
      ]
    },
    {
      "cell_type": "code",
      "execution_count": null,
      "id": "e988ef13",
      "metadata": {
        "id": "e988ef13",
        "outputId": "bfa54ad3-81f3-4d1f-9a50-54aa3cda2e27"
      },
      "outputs": [
        {
          "data": {
            "text/plain": [
              "centro_municipio\n",
              "MADRID                    3852\n",
              "GETAFE                     336\n",
              "MOSTOLES                   226\n",
              "FUENLABRADA                201\n",
              "LEGANES                    185\n",
              "                          ... \n",
              "TORREJON DE LA CALZADA       1\n",
              "PELAYOS DE LA PRESA          1\n",
              "DAGANZO DE ARRIBA            1\n",
              "CHINCHON                     1\n",
              "CADALSO DE LOS VIDRIOS       1\n",
              "Length: 77, dtype: int64"
            ]
          },
          "execution_count": 19,
          "metadata": {},
          "output_type": "execute_result"
        }
      ],
      "source": [
        "#Distribución de familias profesionales \n",
        "df.value_counts('centro_municipio')"
      ]
    },
    {
      "cell_type": "markdown",
      "source": [
        "### Reducción de datos"
      ],
      "metadata": {
        "id": "nXqxF7ah5WVS"
      },
      "id": "nXqxF7ah5WVS"
    },
    {
      "cell_type": "code",
      "execution_count": null,
      "id": "b22de977",
      "metadata": {
        "id": "b22de977"
      },
      "outputs": [],
      "source": [
        "# Se decide reducir la cantidad de cursos a 30 por familia profesional para reducir la complejidad de cómputo del problema\n",
        "familias_profesionales = df['familia_desc'].unique()\n",
        "indices_cursos=[]\n",
        "\n",
        "for familia in familias_profesionales:\n",
        "    indices_cursos+=list(df[df['familia_desc'] == familia][0:30].index.values)"
      ]
    },
    {
      "cell_type": "markdown",
      "source": [
        "### Conjunto de datos final"
      ],
      "metadata": {
        "id": "Vw2l6lDJ5BXJ"
      },
      "id": "Vw2l6lDJ5BXJ"
    },
    {
      "cell_type": "code",
      "execution_count": null,
      "id": "df934a9c",
      "metadata": {
        "id": "df934a9c",
        "outputId": "dcf5616a-d970-4d30-d1cd-b670ac4cfd4c"
      },
      "outputs": [
        {
          "data": {
            "text/html": [
              "<div>\n",
              "<style scoped>\n",
              "    .dataframe tbody tr th:only-of-type {\n",
              "        vertical-align: middle;\n",
              "    }\n",
              "\n",
              "    .dataframe tbody tr th {\n",
              "        vertical-align: top;\n",
              "    }\n",
              "\n",
              "    .dataframe thead th {\n",
              "        text-align: right;\n",
              "    }\n",
              "</style>\n",
              "<table border=\"1\" class=\"dataframe\">\n",
              "  <thead>\n",
              "    <tr style=\"text-align: right;\">\n",
              "      <th></th>\n",
              "      <th>curso_codigo</th>\n",
              "      <th>sector_desc</th>\n",
              "      <th>familia_desc</th>\n",
              "      <th>area_desc</th>\n",
              "      <th>especialidad_desc_1</th>\n",
              "      <th>curso_desc</th>\n",
              "      <th>especialidad_de_certificado</th>\n",
              "      <th>modalidad</th>\n",
              "      <th>dirigido_a</th>\n",
              "      <th>censo</th>\n",
              "      <th>centro_desc</th>\n",
              "      <th>centro_municipio</th>\n",
              "    </tr>\n",
              "  </thead>\n",
              "  <tbody>\n",
              "    <tr>\n",
              "      <th>0</th>\n",
              "      <td>18/8000</td>\n",
              "      <td>Servicios</td>\n",
              "      <td>Informática y comunicaciones</td>\n",
              "      <td>Desarrollo</td>\n",
              "      <td>DESARROLLO DE APPS PARA IOS CON OBJETIVE C Y S...</td>\n",
              "      <td>DESARROLLO DE APPS PARA IOS CON OBJETIVE C Y S...</td>\n",
              "      <td>NO</td>\n",
              "      <td>Presencial</td>\n",
              "      <td>Desempleados</td>\n",
              "      <td>1564</td>\n",
              "      <td>CENTRO DE FORMACION MUNICIPAL MOSTOLES   DESAR...</td>\n",
              "      <td>MOSTOLES</td>\n",
              "    </tr>\n",
              "    <tr>\n",
              "      <th>1</th>\n",
              "      <td>18/8001</td>\n",
              "      <td>Servicios</td>\n",
              "      <td>Informática y comunicaciones</td>\n",
              "      <td>Desarrollo</td>\n",
              "      <td>DESARROLLO DE VIDEOJUEGOS Y REALIDAD VIRTUAL C...</td>\n",
              "      <td>DESARROLLO DE VIDEOJUEGOS Y REALIDAD VIRTUAL C...</td>\n",
              "      <td>NO</td>\n",
              "      <td>Presencial</td>\n",
              "      <td>Desempleados</td>\n",
              "      <td>1564</td>\n",
              "      <td>CENTRO DE FORMACION MUNICIPAL MOSTOLES   DESAR...</td>\n",
              "      <td>MOSTOLES</td>\n",
              "    </tr>\n",
              "    <tr>\n",
              "      <th>2</th>\n",
              "      <td>18/8002</td>\n",
              "      <td>Servicios</td>\n",
              "      <td>Informática y comunicaciones</td>\n",
              "      <td>Inform�tica</td>\n",
              "      <td>T�CNICO EN SOFTWARE OFIM�TICO</td>\n",
              "      <td>T�CNICO EN SOFTWARE OFIM�TICO</td>\n",
              "      <td>NO</td>\n",
              "      <td>Presencial</td>\n",
              "      <td>Desempleados</td>\n",
              "      <td>1564</td>\n",
              "      <td>CENTRO DE FORMACION MUNICIPAL MOSTOLES   DESAR...</td>\n",
              "      <td>MOSTOLES</td>\n",
              "    </tr>\n",
              "    <tr>\n",
              "      <th>3</th>\n",
              "      <td>18/8003</td>\n",
              "      <td>Servicios</td>\n",
              "      <td>Informática y comunicaciones</td>\n",
              "      <td>Sistemas y telem�tica</td>\n",
              "      <td>HERRAMIENTAS WEB 2.0</td>\n",
              "      <td>HERRAMIENTAS WEB 2.0</td>\n",
              "      <td>NO</td>\n",
              "      <td>Presencial</td>\n",
              "      <td>Desempleados</td>\n",
              "      <td>1564</td>\n",
              "      <td>CENTRO DE FORMACION MUNICIPAL MOSTOLES   DESAR...</td>\n",
              "      <td>MOSTOLES</td>\n",
              "    </tr>\n",
              "    <tr>\n",
              "      <th>4</th>\n",
              "      <td>18/8004</td>\n",
              "      <td>Servicios</td>\n",
              "      <td>Informática y comunicaciones</td>\n",
              "      <td>Sistemas y telem�tica</td>\n",
              "      <td>COMMUNITY MANAGER, HERRAMIENTAS, ANAL�TICA E I...</td>\n",
              "      <td>COMMUNITY MANAGER, HERRAMIENTAS, ANAL�TICA E I...</td>\n",
              "      <td>NO</td>\n",
              "      <td>Presencial</td>\n",
              "      <td>Desempleados</td>\n",
              "      <td>1564</td>\n",
              "      <td>CENTRO DE FORMACION MUNICIPAL MOSTOLES   DESAR...</td>\n",
              "      <td>MOSTOLES</td>\n",
              "    </tr>\n",
              "  </tbody>\n",
              "</table>\n",
              "</div>"
            ],
            "text/plain": [
              "  curso_codigo sector_desc                  familia_desc  \\\n",
              "0      18/8000   Servicios  Informática y comunicaciones   \n",
              "1      18/8001   Servicios  Informática y comunicaciones   \n",
              "2      18/8002   Servicios  Informática y comunicaciones   \n",
              "3      18/8003   Servicios  Informática y comunicaciones   \n",
              "4      18/8004   Servicios  Informática y comunicaciones   \n",
              "\n",
              "               area_desc                                especialidad_desc_1  \\\n",
              "0             Desarrollo  DESARROLLO DE APPS PARA IOS CON OBJETIVE C Y S...   \n",
              "1             Desarrollo  DESARROLLO DE VIDEOJUEGOS Y REALIDAD VIRTUAL C...   \n",
              "2            Inform�tica                      T�CNICO EN SOFTWARE OFIM�TICO   \n",
              "3  Sistemas y telem�tica                               HERRAMIENTAS WEB 2.0   \n",
              "4  Sistemas y telem�tica  COMMUNITY MANAGER, HERRAMIENTAS, ANAL�TICA E I...   \n",
              "\n",
              "                                          curso_desc  \\\n",
              "0  DESARROLLO DE APPS PARA IOS CON OBJETIVE C Y S...   \n",
              "1  DESARROLLO DE VIDEOJUEGOS Y REALIDAD VIRTUAL C...   \n",
              "2                      T�CNICO EN SOFTWARE OFIM�TICO   \n",
              "3                               HERRAMIENTAS WEB 2.0   \n",
              "4  COMMUNITY MANAGER, HERRAMIENTAS, ANAL�TICA E I...   \n",
              "\n",
              "  especialidad_de_certificado   modalidad    dirigido_a censo  \\\n",
              "0                          NO  Presencial  Desempleados  1564   \n",
              "1                          NO  Presencial  Desempleados  1564   \n",
              "2                          NO  Presencial  Desempleados  1564   \n",
              "3                          NO  Presencial  Desempleados  1564   \n",
              "4                          NO  Presencial  Desempleados  1564   \n",
              "\n",
              "                                         centro_desc centro_municipio  \n",
              "0  CENTRO DE FORMACION MUNICIPAL MOSTOLES   DESAR...         MOSTOLES  \n",
              "1  CENTRO DE FORMACION MUNICIPAL MOSTOLES   DESAR...         MOSTOLES  \n",
              "2  CENTRO DE FORMACION MUNICIPAL MOSTOLES   DESAR...         MOSTOLES  \n",
              "3  CENTRO DE FORMACION MUNICIPAL MOSTOLES   DESAR...         MOSTOLES  \n",
              "4  CENTRO DE FORMACION MUNICIPAL MOSTOLES   DESAR...         MOSTOLES  "
            ]
          },
          "execution_count": 29,
          "metadata": {},
          "output_type": "execute_result"
        }
      ],
      "source": [
        "df_aux = df.loc[indices_cursos]\n",
        "df_aux.head()"
      ]
    },
    {
      "cell_type": "code",
      "execution_count": null,
      "id": "712d1e9f",
      "metadata": {
        "id": "712d1e9f",
        "outputId": "7e0dc7be-c2d4-42ec-ff5e-d07d2a97869d"
      },
      "outputs": [
        {
          "data": {
            "text/plain": [
              "(630, 12)"
            ]
          },
          "execution_count": 30,
          "metadata": {},
          "output_type": "execute_result"
        }
      ],
      "source": [
        "#Tamaño del conjunto de datos\n",
        "print(f' Las dimensiones del conjunto de datos tras el análisis son: {df_aux.shape}')"
      ]
    },
    {
      "cell_type": "markdown",
      "source": [
        "Exportación del conjunto de datos final"
      ],
      "metadata": {
        "id": "jKMW_vPv470a"
      },
      "id": "jKMW_vPv470a"
    },
    {
      "cell_type": "code",
      "execution_count": null,
      "id": "c115c748",
      "metadata": {
        "id": "c115c748"
      },
      "outputs": [],
      "source": [
        "df_aux.to_csv('cursos_formacion_profesional_empleo_procesados2.csv')"
      ]
    },
    {
      "cell_type": "code",
      "execution_count": null,
      "id": "2bd4ed76",
      "metadata": {
        "id": "2bd4ed76"
      },
      "outputs": [],
      "source": []
    }
  ],
  "metadata": {
    "kernelspec": {
      "display_name": "Python 3",
      "language": "python",
      "name": "python3"
    },
    "language_info": {
      "codemirror_mode": {
        "name": "ipython",
        "version": 3
      },
      "file_extension": ".py",
      "mimetype": "text/x-python",
      "name": "python",
      "nbconvert_exporter": "python",
      "pygments_lexer": "ipython3",
      "version": "3.8.8"
    },
    "colab": {
      "provenance": []
    }
  },
  "nbformat": 4,
  "nbformat_minor": 5
}